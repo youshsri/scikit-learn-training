{
 "cells": [
  {
   "cell_type": "markdown",
   "id": "9b248f1d-a830-4911-8fbd-0de169849076",
   "metadata": {},
   "source": [
    "# Quiz - Introduction"
   ]
  },
  {
   "cell_type": "markdown",
   "id": "972eb666-bb43-495d-9c76-419f5526d6ba",
   "metadata": {},
   "source": [
    "Given a case study: pricing apartments based on a real estate website. We have thousands of house descriptions with their price. Typically, an example of a house description is the following:\n",
    "\n",
    "“Great for entertaining: spacious, updated 2 bedroom, 1 bathroom apartment in Lakeview, 97630. The house will be available from May 1st. Close to nightlife with private backyard. Price ~$1,000,000.”\n",
    "\n",
    "We are interested in predicting house prices from their description. One potential use case for this would be, as a buyer, to find houses that are cheap compared to their market value."
   ]
  },
  {
   "cell_type": "markdown",
   "id": "dff31002-ad44-466f-8252-4383b5288102",
   "metadata": {
    "tags": []
   },
   "source": [
    "## Question 1: What kind of problem is it?\n",
    "\n",
    "This type of problem can be considered a supervised regression problem. This is because we are trying to use existing features of real estate like the number of bedrooms, the number of bathrooms, the location, the amenities (nightlife is mentioned), and more to predict the market value of the property. Since the market value is a continuous, numerical value and we will be using numerous examples to which the ground truth (the market value) is available, this problem can be considered both a regression and supervised machine learning problem.\n",
    "\n",
    "Thus, the answers are **(a)** and **(d)**."
   ]
  },
  {
   "cell_type": "markdown",
   "id": "68fc8a43-467a-49f0-b1cd-cd9de10debd6",
   "metadata": {
    "tags": []
   },
   "source": [
    "## Question 2: What are the features?\n",
    "\n",
    "Using the answer from the first question, since features are just variables that describe unique features about a real estate property like number of bathrooms and more, it is safe to say that the answer to the question is **(a)**, **(b)**, and **(c)**."
   ]
  },
  {
   "cell_type": "markdown",
   "id": "f51c5013-8264-4334-b959-61211f415135",
   "metadata": {
    "tags": []
   },
   "source": [
    "## Question 3: What is the target variable?\n",
    "\n",
    "The target variable is the feature of the real estate property that we're trying to predict via the model, which is the market value/price of the house. Thus, the answer is **(b)**."
   ]
  },
  {
   "cell_type": "markdown",
   "id": "05ce90c9-5b1f-4d3d-991e-b8f0843b2bc0",
   "metadata": {
    "tags": []
   },
   "source": [
    "## Question 4: What is a record (a sample)?\n",
    "\n",
    "A record or sample is an instance of a real estate property/house that has specific values for each feature. Essentially, it is a single row of size *n* features. Thus, the answer is **(a)**."
   ]
  }
 ],
 "metadata": {
  "kernelspec": {
   "display_name": "Python 3 (ipykernel)",
   "language": "python",
   "name": "python3"
  },
  "language_info": {
   "codemirror_mode": {
    "name": "ipython",
    "version": 3
   },
   "file_extension": ".py",
   "mimetype": "text/x-python",
   "name": "python",
   "nbconvert_exporter": "python",
   "pygments_lexer": "ipython3",
   "version": "3.9.7"
  }
 },
 "nbformat": 4,
 "nbformat_minor": 5
}
